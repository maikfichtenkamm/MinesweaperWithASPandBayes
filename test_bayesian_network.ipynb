{
 "cells": [
  {
   "cell_type": "code",
   "execution_count": 1,
   "metadata": {},
   "outputs": [
    {
     "name": "stderr",
     "output_type": "stream",
     "text": [
      "c:\\Users\\maikf\\intro-to-ai\\ms\\lib\\site-packages\\tqdm\\auto.py:22: TqdmWarning: IProgress not found. Please update jupyter and ipywidgets. See https://ipywidgets.readthedocs.io/en/stable/user_install.html\n",
      "  from .autonotebook import tqdm as notebook_tqdm\n"
     ]
    }
   ],
   "source": [
    "from pgmpy.models import BayesianNetwork\n",
    "from pgmpy.factors.discrete import TabularCPD"
   ]
  },
  {
   "cell_type": "code",
   "execution_count": 2,
   "metadata": {},
   "outputs": [],
   "source": [
    "model = BayesianNetwork([('a', 'd'), ('b', 'd'), ('c', 'd')])"
   ]
  },
  {
   "cell_type": "code",
   "execution_count": 3,
   "metadata": {},
   "outputs": [
    {
     "name": "stdout",
     "output_type": "stream",
     "text": [
      "BayesianNetwork with 4 nodes and 3 edges\n"
     ]
    }
   ],
   "source": [
    "print(model)"
   ]
  },
  {
   "cell_type": "code",
   "execution_count": 4,
   "metadata": {},
   "outputs": [
    {
     "name": "stdout",
     "output_type": "stream",
     "text": [
      "+------------+------+\n",
      "| a(Mine)    | 0.33 |\n",
      "+------------+------+\n",
      "| a(no Mine) | 0.67 |\n",
      "+------------+------+\n"
     ]
    }
   ],
   "source": [
    "cpd = TabularCPD(variable='a', variable_card=2, values=[[0.33], [0.67]], state_names={'a': ['Mine', 'no Mine']})\n",
    "model.add_cpds(cpd)\n",
    "print(cpd)"
   ]
  },
  {
   "cell_type": "code",
   "execution_count": 5,
   "metadata": {},
   "outputs": [
    {
     "name": "stdout",
     "output_type": "stream",
     "text": [
      "+------------+------+\n",
      "| b(Mine)    | 0.33 |\n",
      "+------------+------+\n",
      "| b(no Mine) | 0.67 |\n",
      "+------------+------+\n"
     ]
    }
   ],
   "source": [
    "cpd = TabularCPD(variable='b', variable_card=2, values=[[0.33], [0.67]], state_names={'b': ['Mine', 'no Mine']})\n",
    "model.add_cpds(cpd)\n",
    "print(cpd)"
   ]
  },
  {
   "cell_type": "code",
   "execution_count": 6,
   "metadata": {},
   "outputs": [
    {
     "name": "stdout",
     "output_type": "stream",
     "text": [
      "+------------+------+\n",
      "| c(Mine)    | 0.33 |\n",
      "+------------+------+\n",
      "| c(no Mine) | 0.67 |\n",
      "+------------+------+\n"
     ]
    }
   ],
   "source": [
    "cpd = TabularCPD(variable='c', variable_card=2, values=[[0.33], [0.67]], state_names={'c': ['Mine', 'no Mine']})\n",
    "model.add_cpds(cpd)\n",
    "print(cpd)"
   ]
  },
  {
   "cell_type": "code",
   "execution_count": 7,
   "metadata": {},
   "outputs": [
    {
     "name": "stdout",
     "output_type": "stream",
     "text": [
      "+------+---------+------------+-----+------------+------------+\n",
      "| a    | a(Mine) | a(Mine)    | ... | a(no Mine) | a(no Mine) |\n",
      "+------+---------+------------+-----+------------+------------+\n",
      "| b    | b(Mine) | b(Mine)    | ... | b(no Mine) | b(no Mine) |\n",
      "+------+---------+------------+-----+------------+------------+\n",
      "| c    | c(Mine) | c(no Mine) | ... | c(Mine)    | c(no Mine) |\n",
      "+------+---------+------------+-----+------------+------------+\n",
      "| d(0) | 0.0     | 0.0        | ... | 0.0        | 1.0        |\n",
      "+------+---------+------------+-----+------------+------------+\n",
      "| d(1) | 0.0     | 0.0        | ... | 1.0        | 0.0        |\n",
      "+------+---------+------------+-----+------------+------------+\n",
      "| d(2) | 0.0     | 1.0        | ... | 0.0        | 0.0        |\n",
      "+------+---------+------------+-----+------------+------------+\n",
      "| d(3) | 1.0     | 0.0        | ... | 0.0        | 0.0        |\n",
      "+------+---------+------------+-----+------------+------------+\n"
     ]
    }
   ],
   "source": [
    "cpd = TabularCPD(variable='d', variable_card=4, values=[[0, 0, 0, 0, 0, 0, 0, 1], [0, 0, 0, 1, 0, 1, 1, 0], [0, 1, 1, 0, 1, 0, 0, 0], [1, 0, 0, 0, 0 ,0, 0, 0]], evidence=['a', 'b', 'c'], evidence_card=[2,2,2], state_names={'a': ['Mine', 'no Mine'], \n",
    "'b': ['Mine', 'no Mine'], 'c': ['Mine', 'no Mine'], 'd': ['0', '1', '2', '3']})\n",
    "model.add_cpds(cpd)\n",
    "print(cpd)"
   ]
  },
  {
   "cell_type": "code",
   "execution_count": 8,
   "metadata": {},
   "outputs": [
    {
     "data": {
      "text/plain": [
       "True"
      ]
     },
     "execution_count": 8,
     "metadata": {},
     "output_type": "execute_result"
    }
   ],
   "source": [
    "model.check_model()"
   ]
  },
  {
   "cell_type": "code",
   "execution_count": 9,
   "metadata": {},
   "outputs": [],
   "source": [
    "from pgmpy.inference import VariableElimination\n",
    "infer = VariableElimination(model)"
   ]
  },
  {
   "cell_type": "code",
   "execution_count": 10,
   "metadata": {},
   "outputs": [
    {
     "name": "stdout",
     "output_type": "stream",
     "text": [
      "+------------+----------+\n",
      "| a          |   phi(a) |\n",
      "+============+==========+\n",
      "| a(Mine)    |   0.3300 |\n",
      "+------------+----------+\n",
      "| a(no Mine) |   0.6700 |\n",
      "+------------+----------+\n"
     ]
    }
   ],
   "source": [
    "g = infer.query(['a'])\n",
    "print(g)"
   ]
  },
  {
   "cell_type": "code",
   "execution_count": 11,
   "metadata": {},
   "outputs": [
    {
     "name": "stdout",
     "output_type": "stream",
     "text": [
      "+------------+----------+\n",
      "| a          |   phi(a) |\n",
      "+============+==========+\n",
      "| a(Mine)    |   1.0000 |\n",
      "+------------+----------+\n",
      "| a(no Mine) |   0.0000 |\n",
      "+------------+----------+\n"
     ]
    }
   ],
   "source": [
    "bla = infer.query(['a'], evidence={'d': '3'})\n",
    "print(bla)"
   ]
  },
  {
   "cell_type": "code",
   "execution_count": 12,
   "metadata": {},
   "outputs": [
    {
     "name": "stdout",
     "output_type": "stream",
     "text": [
      "[0, 1, 1, 0, 1, 0, 0, 0, 1, 0, 0, 0, 0, 0, 0, 0, 1, 0, 0, 0, 0, 0, 0, 0, 0, 0, 0, 0, 0, 0, 0, 0, 1, 0, 0, 0, 0, 0, 0, 0, 0, 0, 0, 0, 0, 0, 0, 0, 0, 0, 0, 0, 0, 0, 0, 0, 0, 0, 0, 0, 0, 0, 0, 0, 1, 0, 0, 0, 0, 0, 0, 0, 0, 0, 0, 0, 0, 0, 0, 0, 0, 0, 0, 0, 0, 0, 0, 0, 0, 0, 0, 0, 0, 0, 0, 0, 0, 0, 0, 0, 0, 0, 0, 0, 0, 0, 0, 0, 0, 0, 0, 0, 0, 0, 0, 0, 0, 0, 0, 0, 0, 0, 0, 0, 0, 0, 0, 0]\n",
      "[0, 0, 0, 0, 0, 0, 0, 0, 0, 0, 0, 0, 0, 0, 0, 0, 0, 0, 0, 0, 0, 0, 0, 0, 0, 0, 0, 0, 0, 0, 0, 0, 0, 0, 0, 0, 0, 0, 0, 0, 0, 0, 0, 0, 0, 0, 0, 0, 0, 0, 0, 0, 0, 0, 0, 0, 0, 0, 0, 0, 0, 0, 0, 1, 0, 0, 0, 0, 0, 0, 0, 0, 0, 0, 0, 0, 0, 0, 0, 0, 0, 0, 0, 0, 0, 0, 0, 0, 0, 0, 0, 0, 0, 0, 0, 1, 0, 0, 0, 0, 0, 0, 0, 0, 0, 0, 0, 0, 0, 0, 0, 1, 0, 0, 0, 0, 0, 0, 0, 1, 0, 0, 0, 1, 0, 1, 1, 0]\n"
     ]
    }
   ],
   "source": [
    "a = [0, 1, 1, 0, 1, 0, 0, 0, 1, 0, 0, 0, 0, 0, 0, 0, 1, 0, 0, 0, 0, 0, 0, 0, 0, 0, 0, 0, 0, 0, 0, 0,    1, 0, 0, 0, 0, 0, 0, 0, 0, 0, 0, 0, 0, 0, 0, 0, 0, 0, 0, 0, 0, 0, 0, 0, 0, 0, 0, 0, 0, 0, 0, 0,     1, 0, 0, 0, 0, 0, 0, 0, 0, 0, 0, 0, 0, 0, 0, 0, 0, 0, 0, 0, 0, 0, 0, 0, 0, 0, 0, 0, 0, 0, 0, 0,     0, 0, 0, 0, 0, 0, 0, 0, 0, 0, 0, 0, 0, 0, 0, 0, 0, 0, 0, 0, 0, 0, 0, 0, 0, 0, 0, 0, 0, 0, 0, 0]\n",
    "print(a)\n",
    "reversed = a[::-1]\n",
    "print(reversed)"
   ]
  }
 ],
 "metadata": {
  "kernelspec": {
   "display_name": "ms",
   "language": "python",
   "name": "python3"
  },
  "language_info": {
   "codemirror_mode": {
    "name": "ipython",
    "version": 3
   },
   "file_extension": ".py",
   "mimetype": "text/x-python",
   "name": "python",
   "nbconvert_exporter": "python",
   "pygments_lexer": "ipython3",
   "version": "3.9.13"
  },
  "orig_nbformat": 4,
  "vscode": {
   "interpreter": {
    "hash": "42a46b1076e77bb34e1accfd198aef73d7caa24105e1bfba67bfe28c439fda90"
   }
  }
 },
 "nbformat": 4,
 "nbformat_minor": 2
}
